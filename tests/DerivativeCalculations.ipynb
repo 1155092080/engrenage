{
 "cells": [
  {
   "cell_type": "code",
   "execution_count": null,
   "id": "ccb25b43",
   "metadata": {},
   "outputs": [
    {
     "data": {
      "text/html": [
       "<script>Jupyter.notebook.kernel.restart()</script>"
      ],
      "text/plain": [
       "<IPython.core.display.HTML object>"
      ]
     },
     "execution_count": 3,
     "metadata": {},
     "output_type": "execute_result"
    }
   ],
   "source": [
    "# This notebook uses sympy to calculate the appropriate coefficients \n",
    "# for the derivative stencils for the various cases used in engrenage, \n",
    "# and checks the Grid and Derivative classes work as expected\n",
    "\n",
    "# restart the kernel to clear past work\n",
    "from IPython.core.display import HTML\n",
    "HTML(\"<script>Jupyter.notebook.kernel.restart()</script>\")"
   ]
  },
  {
   "cell_type": "code",
   "execution_count": 1,
   "id": "17423e71",
   "metadata": {},
   "outputs": [],
   "source": [
    "import numpy as np\n",
    "from sympy import symbols, simplify, pprint, diff, expand, collect\n",
    "import matplotlib.pyplot as plt\n",
    "import sys\n",
    "%matplotlib inline\n",
    "\n",
    "sys.path.append('../')\n",
    "from source.Grid import *\n",
    "from source.Derivatives import *"
   ]
  },
  {
   "cell_type": "code",
   "execution_count": 2,
   "id": "056f17ee",
   "metadata": {},
   "outputs": [],
   "source": [
    "# Set up a Grid class\n",
    "max_r = 10.0\n",
    "num_points = 32\n",
    "log_factor = 1.05\n",
    "my_grid = Grid(max_r, num_points, log_factor)\n",
    "#print(my_grid.derivatives.d1_matrix)"
   ]
  },
  {
   "cell_type": "code",
   "execution_count": 4,
   "id": "3987c9e7",
   "metadata": {},
   "outputs": [
    {
     "data": {
      "image/png": "[encoded data removed]",
      "text/plain": [
       "<Figure size 432x288 with 1 Axes>"
      ]
     },
     "metadata": {
      "needs_background": "light"
     },
     "output_type": "display_data"
    }
   ],
   "source": [
    "# Now test the derivatives\n",
    "r = my_grid.r_vector\n",
    "y = np.sin(r)\n",
    "dydr = np.dot(my_grid.derivatives.d1_matrix, y)\n",
    "\n",
    "plt.plot(r, dydr, '-')\n",
    "plt.plot(r, np.cos(r), '--')\n",
    "\n",
    "d2ydr2 = np.dot(my_grid.derivatives.d2_matrix, y)\n",
    "\n",
    "plt.plot(r, d2ydr2, '-')\n",
    "plt.plot(r, -np.sin(r), '--')\n",
    "\n",
    "plt.ylim([-2,2])\n",
    "plt.grid()"
   ]
  },
  {
   "cell_type": "code",
   "execution_count": 3,
   "id": "8e3a2888",
   "metadata": {},
   "outputs": [
    {
     "name": "stdout",
     "output_type": "stream",
     "text": [
      "Using sympy we get the polynomial (f1*(x - x3)*(dx - x + x3)*(dx + x - x3)*(2*dx - x + x3) - 4*f2*(x - x3)*(dx - x + x3)*(2*dx - x + x3)*(2*dx + x - x3) + 6*f3*(dx - x + x3)*(dx + x - x3)*(2*dx - x + x3)*(2*dx + x - x3) + 4*f4*(x - x3)*(dx + x - x3)*(2*dx - x + x3)*(2*dx + x - x3) - f5*(x - x3)*(dx - x + x3)*(dx + x - x3)*(2*dx + x - x3))/(24*dx**4)\n",
      "Its first derivative is (dx**3*f1 - 8*dx**3*f2 + 8*dx**3*f4 - dx**3*f5 - dx**2*f1*x + dx**2*f1*x3 + 16*dx**2*f2*x - 16*dx**2*f2*x3 - 30*dx**2*f3*x + 30*dx**2*f3*x3 + 16*dx**2*f4*x - 16*dx**2*f4*x3 - dx**2*f5*x + dx**2*f5*x3 - 3*dx*f1*x**2 + 6*dx*f1*x*x3 - 3*dx*f1*x3**2 + 6*dx*f2*x**2 - 12*dx*f2*x*x3 + 6*dx*f2*x3**2 - 6*dx*f4*x**2 + 12*dx*f4*x*x3 - 6*dx*f4*x3**2 + 3*dx*f5*x**2 - 6*dx*f5*x*x3 + 3*dx*f5*x3**2 + 2*f1*x**3 - 6*f1*x**2*x3 + 6*f1*x*x3**2 - 2*f1*x3**3 - 8*f2*x**3 + 24*f2*x**2*x3 - 24*f2*x*x3**2 + 8*f2*x3**3 + 12*f3*x**3 - 36*f3*x**2*x3 + 36*f3*x*x3**2 - 12*f3*x3**3 - 8*f4*x**3 + 24*f4*x**2*x3 - 24*f4*x*x3**2 + 8*f4*x3**3 + 2*f5*x**3 - 6*f5*x**2*x3 + 6*f5*x*x3**2 - 2*f5*x3**3)/(12*dx**4)\n",
      "Its second derivative is (-dx**2*f1/12 + 4*dx**2*f2/3 - 5*dx**2*f3/2 + 4*dx**2*f4/3 - dx**2*f5/12 - dx*f1*x/2 + dx*f1*x3/2 + dx*f2*x - dx*f2*x3 - dx*f4*x + dx*f4*x3 + dx*f5*x/2 - dx*f5*x3/2 + f1*x**2/2 - f1*x*x3 + f1*x3**2/2 - 2*f2*x**2 + 4*f2*x*x3 - 2*f2*x3**2 + 3*f3*x**2 - 6*f3*x*x3 + 3*f3*x3**2 - 2*f4*x**2 + 4*f4*x*x3 - 2*f4*x3**2 + f5*x**2/2 - f5*x*x3 + f5*x3**2/2)/dx**4\n",
      "Its first derivative at x2 is (f1 - 8*f2 + 8*f4 - f5)/(12*dx)\n",
      "Its second derivative at x2 is (-f1 + 16*f2 - 30*f3 + 16*f4 - f5)/(12*dx**2)\n",
      "This gives the first derivative stencil \n",
      "\n",
      "f₁ - 8⋅f₂ + 8⋅f₄ - f₅\n",
      "─────────────────────\n",
      "        12⋅dx        \n",
      "This gives the second derivative stencil \n",
      "\n",
      "-f₁ + 16⋅f₂ - 30⋅f₃ + 16⋅f₄ - f₅\n",
      "────────────────────────────────\n",
      "                  2             \n",
      "             12⋅dx              \n"
     ]
    }
   ],
   "source": [
    "# Check the finite derivatives for a fixed spacing dx, centered derivative\n",
    "# using 5 points (so O(dx^4) accurate)\n",
    "\n",
    "# Construct the polynomial using sympy\n",
    "x = symbols('x')\n",
    "deltax = symbols('dx')\n",
    "x3 = symbols('x3')\n",
    "x2 = x3-deltax\n",
    "x1 = x2-deltax\n",
    "x4 = x3+deltax\n",
    "x5 = x4+deltax\n",
    "f1 = symbols('f1')\n",
    "f2 = symbols('f2')\n",
    "f3 = symbols('f3')\n",
    "f4 = symbols('f4')\n",
    "f5 = symbols('f5')\n",
    "\n",
    "L1 = (x - x2 ) / (x1 - x2) * (x - x3 ) / (x1 - x3)* (x - x4) / (x1 - x4) * (x - x5 ) / (x1 - x5)\n",
    "L2 = (x - x1 ) / (x2 - x1) * (x - x3 ) / (x2 - x3)* (x - x4 ) / (x2 - x4)* (x - x5 ) / (x2 - x5)\n",
    "L3 = (x - x1 ) / (x3 - x1) * (x - x2 ) / (x3 - x2)* (x - x4 ) / (x3 - x4)* (x - x5 ) / (x3 - x5)\n",
    "L4 = (x - x1 ) / (x4 - x1) * (x - x2 ) / (x4 - x2)* (x - x3 ) / (x4 - x3)* (x - x5 ) / (x4 - x5)\n",
    "L5 = (x - x1 ) / (x5 - x1) * (x - x2 ) / (x5 - x2)* (x - x3 ) / (x5 - x3)* (x - x4 ) / (x5 - x4)\n",
    "P = f1 * L1 + f2 * L2 + f3 * L3 + f4 * L4 + f5 * L5\n",
    "print(\"Using sympy we get the polynomial\", simplify(P))\n",
    "#pprint(simplify(P))\n",
    "\n",
    "# Now take the derivative twice\n",
    "dPdx = diff(P, x)\n",
    "print(\"Its first derivative is\", simplify(dPdx))\n",
    "\n",
    "d2Pdx2 = diff(dPdx, x)\n",
    "print(\"Its second derivative is\", simplify(d2Pdx2))\n",
    "#pprint(simplify(dPdx))\n",
    "\n",
    "# Now find the value at the central point x3\n",
    "dPdx_at_x3 = dPdx.subs(x, x3)\n",
    "d2Pdx2_at_x3 = d2Pdx2.subs(x, x3)\n",
    "print(\"Its first derivative at x2 is\", simplify(dPdx_at_x3))\n",
    "print(\"Its second derivative at x2 is\", simplify(d2Pdx2_at_x3))\n",
    "print(\"This gives the first derivative stencil \\n\")\n",
    "pprint(simplify(dPdx_at_x3))\n",
    "print(\"This gives the second derivative stencil \\n\")\n",
    "pprint(simplify(d2Pdx2_at_x3))"
   ]
  },
  {
   "cell_type": "code",
   "execution_count": 4,
   "id": "58437656",
   "metadata": {},
   "outputs": [
    {
     "name": "stdout",
     "output_type": "stream",
     "text": [
      "Its first derivative at x2 is (-3*f1 - 10*f2 + 18*f3 - 6*f4 + f5)/(12*dx)\n",
      "This gives the first derivative advective stencil \n",
      "\n",
      "-3⋅f₁ - 10⋅f₂ + 18⋅f₃ - 6⋅f₄ + f₅\n",
      "─────────────────────────────────\n",
      "              12⋅dx              \n"
     ]
    }
   ],
   "source": [
    "# For the advective derivatives we can do the same but taking the values at x2\n",
    "# (and x4) instead\n",
    "\n",
    "# Now find the value at the central point x3\n",
    "dPdx_at_x2 = dPdx.subs(x, x2)\n",
    "print(\"Its first derivative at x2 is\", simplify(dPdx_at_x2))\n",
    "print(\"This gives the first derivative advective stencil \\n\")\n",
    "pprint(simplify(dPdx_at_x2))"
   ]
  },
  {
   "cell_type": "code",
   "execution_count": 73,
   "id": "2fdc9806",
   "metadata": {},
   "outputs": [
    {
     "name": "stdout",
     "output_type": "stream",
     "text": [
      "The coefficient of the f5 term in the first derivative stencil is \n",
      "\n",
      "               -f₅               \n",
      "─────────────────────────────────\n",
      " 2 ⎛ 2        ⎞ ⎛ 3    2        ⎞\n",
      "c ⋅⎝c  + c + 1⎠⋅⎝c  + c  + c + 1⎠\n"
     ]
    }
   ],
   "source": [
    "# Now for the logarithmic case\n",
    "\n",
    "# Check the finite derivatives for a fixed spacing dx, centered derivative\n",
    "# using 5 points (so O(dx^4) accurate)\n",
    "\n",
    "# Construct the polynomial using sympy\n",
    "x = symbols('x')\n",
    "c = symbols('c')\n",
    "dx = symbols('dx')\n",
    "x1 = dx/2\n",
    "x2 = x1+(c*dx)\n",
    "x3 = x2+(c*c*dx)\n",
    "x4 = x3+(c*c*c*dx)\n",
    "x5 = x4+(c*c*c*c*dx)\n",
    "f1 = symbols('f1')\n",
    "f2 = symbols('f2')\n",
    "f3 = symbols('f3')\n",
    "f4 = symbols('f4')\n",
    "f5 = symbols('f5')\n",
    "\n",
    "L1 = (x - x2 ) / (x1 - x2) * (x - x3 ) / (x1 - x3)* (x - x4) / (x1 - x4) * (x - x5 ) / (x1 - x5)\n",
    "L2 = (x - x1 ) / (x2 - x1) * (x - x3 ) / (x2 - x3)* (x - x4 ) / (x2 - x4)* (x - x5 ) / (x2 - x5)\n",
    "L3 = (x - x1 ) / (x3 - x1) * (x - x2 ) / (x3 - x2)* (x - x4 ) / (x3 - x4)* (x - x5 ) / (x3 - x5)\n",
    "L4 = (x - x1 ) / (x4 - x1) * (x - x2 ) / (x4 - x2)* (x - x3 ) / (x4 - x3)* (x - x5 ) / (x4 - x5)\n",
    "L5 = (x - x1 ) / (x5 - x1) * (x - x2 ) / (x5 - x2)* (x - x3 ) / (x5 - x3)* (x - x4 ) / (x5 - x4)\n",
    "P = f1 * L1 + f2 * L2 + f3 * L3 + f4 * L4 + f5 * L5\n",
    "#print(\"Using sympy we get the polynomial\", simplify(P))\n",
    "#pprint(simplify(P))\n",
    "\n",
    "# Now take the derivative twice\n",
    "dPdx = diff(P, x)\n",
    "#print(\"Its first derivative is\", simplify(dPdx))\n",
    "\n",
    "d2Pdx2 = diff(dPdx, x)\n",
    "#print(\"Its second derivative is\", simplify(d2Pdx2))\n",
    "#pprint(simplify(dPdx))\n",
    "\n",
    "# Now find the value at the central point x3\n",
    "dPdx_at_x3 = dPdx.subs(x, x3)\n",
    "d2Pdx2_at_x3 = d2Pdx2.subs(x, x3)\n",
    "#print(\"Its first derivative at x2 is\", simplify(dPdx_at_x3))\n",
    "#print(\"Its second derivative at x2 is\", simplify(d2Pdx2_at_x3))\n",
    "#print(\"This gives the first derivative stencil \\n\")\n",
    "#pprint(simplify(dPdx_at_x3))\n",
    "#print(\"This gives the second derivative stencil \\n\")\n",
    "#pprint(simplify(d2Pdx2_at_x3))\n",
    "\n",
    "# Easier to isolate out the terms one by one - coeff of f5 first\n",
    "f5_dPdx_at_x3 = dPdx_at_x3.subs(f1, 0)\n",
    "f5_dPdx_at_x3 = f5_dPdx_at_x3.subs(f2, 0)\n",
    "f5_dPdx_at_x3 = f5_dPdx_at_x3.subs(f3, 0)\n",
    "f5_dPdx_at_x3 = f5_dPdx_at_x3.subs(f4, 0)\n",
    "f5_dPdx_at_x3 = simplify(f5_dPdx_at_x3)\n",
    "dR_at_x3 = (c*c*dx)\n",
    "print(\"The coefficient of the f5 term in the first derivative stencil is \\n\")\n",
    "pprint(f5_dPdx_at_x3 * dR_at_x3)"
   ]
  },
  {
   "cell_type": "code",
   "execution_count": 74,
   "id": "7a557f6c",
   "metadata": {},
   "outputs": [
    {
     "data": {
      "text/latex": [
       "$\\displaystyle 0$"
      ],
      "text/plain": [
       "0"
      ]
     },
     "execution_count": 74,
     "metadata": {},
     "output_type": "execute_result"
    }
   ],
   "source": [
    "# check the form matches the simpler one used in the code\n",
    "# (sympy not great at simplifying)\n",
    "check = -f5/(c**2 * (1 + c) *(1 + c**2) * (1 + c + c**2))\n",
    "simplify(f5_dPdx_at_x3 * dR_at_x3 - check)"
   ]
  },
  {
   "cell_type": "code",
   "execution_count": 90,
   "id": "758ae31f",
   "metadata": {},
   "outputs": [
    {
     "name": "stdout",
     "output_type": "stream",
     "text": [
      "The coefficient of the f5 term in the first derivative stencil is \n",
      "\n",
      "        -f₅         \n",
      "────────────────────\n",
      " 5 ⎛ 3    2        ⎞\n",
      "c ⋅⎝c  + c  + c + 1⎠\n"
     ]
    }
   ],
   "source": [
    "# check the one sided stencil for the end points\n",
    "dPdx_at_x1 = dPdx.subs(x, x1)\n",
    "d2Pdx2_at_x1 = d2Pdx2.subs(x, x1)\n",
    "# Easier to isolate out the terms one by one - coeff of f5 first\n",
    "f5_dPdx_at_x1 = dPdx_at_x1.subs(f1, 0)\n",
    "f5_dPdx_at_x1 = f5_dPdx_at_x1.subs(f2, 0)\n",
    "f5_dPdx_at_x1 = f5_dPdx_at_x1.subs(f3, 0)\n",
    "f5_dPdx_at_x1 = f5_dPdx_at_x1.subs(f4, 0)\n",
    "f5_dPdx_at_x1 = simplify(f5_dPdx_at_x1)\n",
    "dR_at_x1 = dx\n",
    "print(\"The coefficient of the f5 term in the first derivative stencil is \\n\")\n",
    "pprint(f5_dPdx_at_x1 * dR_at_x3)"
   ]
  },
  {
   "cell_type": "code",
   "execution_count": 77,
   "id": "99fe1671",
   "metadata": {},
   "outputs": [
    {
     "name": "stdout",
     "output_type": "stream",
     "text": [
      "f₁\n"
     ]
    }
   ],
   "source": [
    "# Check that polynomial gives right value for the first point below r=0 \n",
    "# (should just be same as value at x1, so f1)\n",
    "P_at_x0 = P.subs(x, dx/2)\n",
    "pprint(P_at_x0)"
   ]
  },
  {
   "cell_type": "code",
   "execution_count": 88,
   "id": "d1135343",
   "metadata": {},
   "outputs": [
    {
     "name": "stdout",
     "output_type": "stream",
     "text": [
      "   ⎛ 12    11    10    9      8      7    5      4    3    2          ⎞\n",
      "f₁⋅⎝c   + c   + c   - c  - 2⋅c  - 3⋅c  + c  + 3⋅c  + c  - c  - 2⋅c + 1⎠\n",
      "───────────────────────────────────────────────────────────────────────\n",
      "                       8 ⎛ 4    3      2        ⎞                      \n",
      "                      c ⋅⎝c  + c  + 2⋅c  + c + 1⎠                      \n"
     ]
    }
   ],
   "source": [
    "# Check that polynomial gives right value for the second point below r=0 \n",
    "P_at_xm1 = P.subs(x, dx/2 + dx/c)\n",
    "#pprint(simplify(P_at_xm1))\n",
    "# Easier to isolate out the terms one by one - coeff of f1 first\n",
    "coeff_of_f1_for_xm1 = P_at_xm1.subs(f2, 0)\n",
    "coeff_of_f1_for_xm1 = coeff_of_f1_for_xm1.subs(f2, 0)\n",
    "coeff_of_f1_for_xm1 = coeff_of_f1_for_xm1.subs(f3, 0)\n",
    "coeff_of_f1_for_xm1 = coeff_of_f1_for_xm1.subs(f4, 0)\n",
    "coeff_of_f1_for_xm1 = coeff_of_f1_for_xm1.subs(f5, 0)\n",
    "coeff_of_f1_for_xm1 = simplify(coeff_of_f1_for_xm1)\n",
    "pprint(coeff_of_f1_for_xm1)"
   ]
  },
  {
   "cell_type": "code",
   "execution_count": 89,
   "id": "f0726158",
   "metadata": {},
   "outputs": [
    {
     "name": "stdout",
     "output_type": "stream",
     "text": [
      "   ⎛ 14      11      10      9      8      7      6    5      4      3    2     \n",
      "f₁⋅⎝c   - 2⋅c   - 2⋅c   - 2⋅c  + 2⋅c  + 3⋅c  + 4⋅c  + c  - 2⋅c  - 4⋅c  - c  + c \n",
      "────────────────────────────────────────────────────────────────────────────────\n",
      "                                     12 ⎛ 2    ⎞                                \n",
      "                                    c  ⋅⎝c  + 1⎠                                \n",
      "\n",
      "   ⎞\n",
      "+ 1⎠\n",
      "────\n",
      "    \n",
      "    \n"
     ]
    }
   ],
   "source": [
    "# Check that polynomial gives right value for the third point below r=0 \n",
    "P_at_xm2 = P.subs(x, dx/2 + dx/c + dx/c/c)\n",
    "#pprint(simplify(P_at_xm2))\n",
    "# Easier to isolate out the terms one by one - coeff of f1 first\n",
    "coeff_of_f1_for_xm2 = P_at_xm2.subs(f2, 0)\n",
    "coeff_of_f1_for_xm2 = coeff_of_f1_for_xm2.subs(f2, 0)\n",
    "coeff_of_f1_for_xm2 = coeff_of_f1_for_xm2.subs(f3, 0)\n",
    "coeff_of_f1_for_xm2 = coeff_of_f1_for_xm2.subs(f4, 0)\n",
    "coeff_of_f1_for_xm2 = coeff_of_f1_for_xm2.subs(f5, 0)\n",
    "coeff_of_f1_for_xm2 = simplify(coeff_of_f1_for_xm2)\n",
    "pprint(coeff_of_f1_for_xm2)"
   ]
  },
  {
   "cell_type": "code",
   "execution_count": 92,
   "id": "3e906b39",
   "metadata": {},
   "outputs": [
    {
     "name": "stdout",
     "output_type": "stream",
     "text": [
      "The coefficient of the f5 term in the first derivative stencil is \n",
      "\n",
      "        -f₅         \n",
      "────────────────────\n",
      " 5 ⎛ 3    2        ⎞\n",
      "c ⋅⎝c  + c  + c + 1⎠\n"
     ]
    }
   ],
   "source": [
    "# For KO dissipation we need to implement a 6th order derivative stencil\n",
    "# KO term = - sigma * d^6f/dx^6 / 2^6\n",
    "# Construct the polynomial using sympy\n",
    "x = symbols('x')\n",
    "c = symbols('c')\n",
    "dx = symbols('dx')\n",
    "x0 = - dx/2\n",
    "x1 = dx/2\n",
    "x2 = x1+(c*dx)\n",
    "x3 = x2+(c*c*dx)\n",
    "x4 = x3+(c*c*c*dx)\n",
    "x5 = x4+(c*c*c*c*dx)\n",
    "x6 = x5+(c*c*c*c*c*dx)\n",
    "f0 = symbols('f0')\n",
    "f1 = symbols('f1')\n",
    "f2 = symbols('f2')\n",
    "f3 = symbols('f3')\n",
    "f4 = symbols('f4')\n",
    "f5 = symbols('f5')\n",
    "f6 = symbols('f6')\n",
    "\n",
    "L0 = (x - x0 ) / (x0 - x2) * (x - x2 ) / (x1 - x2) * (x - x3 ) / (x1 - x3)* (x - x4) / (x1 - x4) * (x - x5 ) / (x1 - x5)\n",
    "L1 = (x - x0 ) / (x0 - x2) * (x - x2 ) / (x1 - x2) * (x - x3 ) / (x1 - x3)* (x - x4) / (x1 - x4) * (x - x5 ) / (x1 - x5)\n",
    "L2 = (x - x0 ) / (x0 - x2) * (x - x1 ) / (x2 - x1) * (x - x3 ) / (x2 - x3)* (x - x4 ) / (x2 - x4)* (x - x5 ) / (x2 - x5)\n",
    "L3 = (x - x0 ) / (x0 - x2) * (x - x1 ) / (x3 - x1) * (x - x2 ) / (x3 - x2)* (x - x4 ) / (x3 - x4)* (x - x5 ) / (x3 - x5)\n",
    "L4 = (x - x0 ) / (x1 - x2) * (x - x1 ) / (x4 - x1) * (x - x2 ) / (x4 - x2)* (x - x3 ) / (x4 - x3)* (x - x5 ) / (x4 - x5)\n",
    "L5 = (x - x0 ) / (x1 - x2) * (x - x1 ) / (x5 - x1) * (x - x2 ) / (x5 - x2)* (x - x3 ) / (x5 - x3)* (x - x4 ) / (x5 - x4)\n",
    "L6 = (x - x0 ) / (x1 - x2) * (x - x1 ) / (x5 - x1) * (x - x2 ) / (x5 - x2)* (x - x3 ) / (x5 - x3)* (x - x4 ) / (x5 - x4)\n",
    "P = f0 * L0 + f1 * L1 + f2 * L2 + f3 * L3 + f4 * L4 + f5 * L5 + f6 * L6\n",
    "\n",
    "# Now take the derivative to 6th order\n",
    "dPdx = diff(P, x)\n",
    "d2Pdx2 = diff(dPdx, x)\n",
    "d3Pdx3 = diff(d2Pdx2, x)\n",
    "d4Pdx4 = diff(d3Pdx3, x)\n",
    "d5Pdx5 = diff(d4Pdx4, x)\n",
    "d6Pdx6 = diff(d5Pdx5, x)\n",
    "\n",
    "# check the central differences\n",
    "KO_at_x3 = d6Pdx6.subs(x, x3)\n",
    "# Easier to isolate out the terms one by one - coeff of f5 first\n",
    "f5_KO_at_x3 = KO_at_x3.subs(f1, 0)\n",
    "f5_KO_at_x3 = f5_KO_at_x3.subs(f2, 0)\n",
    "f5_KO_at_x3 = f5_KO_at_x3.subs(f3, 0)\n",
    "f5_KO_at_x3 = f5_KO_at_x3.subs(f4, 0)\n",
    "f5_KO_at_x3 = simplify(f5_dPdx_at_x1)\n",
    "dR_at_x3 = dx*c*c\n",
    "print(\"The coefficient of the f5 term in the first derivative stencil is \\n\")\n",
    "pprint(f5_KO_at_x3 * dR_at_x3)"
   ]
  },
  {
   "cell_type": "code",
   "execution_count": null,
   "id": "4a054371",
   "metadata": {},
   "outputs": [],
   "source": []
  }
 ],
 "metadata": {
  "kernelspec": {
   "display_name": "Python 3 (ipykernel)",
   "language": "python",
   "name": "python3"
  },
  "language_info": {
   "codemirror_mode": {
    "name": "ipython",
    "version": 3
   },
   "file_extension": ".py",
   "mimetype": "text/x-python",
   "name": "python",
   "nbconvert_exporter": "python",
   "pygments_lexer": "ipython3",
   "version": "3.9.7"
  }
 },
 "nbformat": 4,
 "nbformat_minor": 5
}
