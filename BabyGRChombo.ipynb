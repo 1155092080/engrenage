{
 "cells": [
  {
   "cell_type": "code",
   "execution_count": 1,
   "id": "5ae36db4",
   "metadata": {},
   "outputs": [],
   "source": [
    "# This code evolves the Einstein-Klein Gordon system of equations in the 3+1 decomposition \n",
    "# using the reference metric approach in arXiv:1211.6632\n",
    "# to avoid coordinate singularities in the right hand side evolution\n",
    "# Spherical symmetry is assumed and the outer boundary condition is \n",
    "# extrapolation at zeroth order\n",
    "\n",
    "# load the required python modules\n",
    "import numpy as np\n",
    "from scipy.interpolate import interp1d\n",
    "from scipy.integrate import odeint\n",
    "import time\n",
    "import random\n",
    "import matplotlib.pyplot as plt\n",
    "%matplotlib inline\n",
    "\n",
    "# homemade code\n",
    "from myparams import *                         # go here to change the grid and other params\n",
    "from source.rhsevolution import *              # go here to look at how the evolution works\n",
    "from myinitialconditions import *       # go here to change the initial conditions\n",
    "from source.diagnostics import *               # go here to change the initial conditions"
   ]
  },
  {
   "cell_type": "code",
   "execution_count": 2,
   "id": "e0b8dc67",
   "metadata": {},
   "outputs": [
    {
     "data": {
      "image/png": "[encoded data removed]",
      "text/plain": [
       "<Figure size 432x288 with 1 Axes>"
      ]
     },
     "metadata": {
      "needs_background": "light"
     },
     "output_type": "display_data"
    }
   ],
   "source": [
    "initial_vars_values = get_initial_vars_values()\n",
    "\n",
    "#unpackage the vector for readability\n",
    "initial_u   = initial_vars_values[idx_u * N : (idx_u + 1) * N]\n",
    "initial_v   = initial_vars_values[idx_v * N : (idx_v + 1) * N]\n",
    "initial_phi = initial_vars_values[idx_phi * N : (idx_phi + 1) * N]\n",
    "#initial_chi = np.exp(-4.0*initial_phi)\n",
    "initial_hrr = initial_vars_values[idx_hrr * N : (idx_hrr + 1) * N]\n",
    "initial_hpp = initial_vars_values[idx_hpp * N : (idx_hpp + 1) * N]\n",
    "initial_lambdar = initial_vars_values[idx_lambdar * N : (idx_lambdar + 1) * N]\n",
    "\n",
    "#plot initial conditions\n",
    "plt.xlabel('r')\n",
    "plt.plot(r, initial_u, label='u')\n",
    "plt.plot(r, initial_v, label='v')\n",
    "plt.plot(r, initial_phi, label='phi')\n",
    "plt.plot(r, initial_hrr, label='hrr')\n",
    "plt.plot(r, initial_hpp, label='hpp')\n",
    "plt.plot(r, initial_lambdar, label='lambdar')\n",
    "plt.legend(loc='best')\n",
    "plt.grid()"
   ]
  },
  {
   "cell_type": "code",
   "execution_count": 3,
   "id": "d97150a0",
   "metadata": {},
   "outputs": [],
   "source": [
    "#solve for the solution\n",
    "solution = odeint(get_rhs, initial_vars_values, t, args=(0, 0), atol=1e-5, rtol=1e-5, hmin=min_dt, mxstep=max_steps)"
   ]
  },
  {
   "cell_type": "code",
   "execution_count": null,
   "id": "45fcb464",
   "metadata": {},
   "outputs": [],
   "source": [
    "# Plot a single point versus time\n",
    "\n",
    "var1 = idx_u\n",
    "var2 = idx_v\n",
    "\n",
    "idx = num_ghosts\n",
    "r_i = np.round(r[idx],2)\n",
    "u_of_t = solution[0:N_t, var1 * N + idx]\n",
    "plt.plot(t, u_of_t, 'b-', label='var1')\n",
    "v_of_t = solution[0:N_t, var2 * N + idx]\n",
    "plt.plot(t, v_of_t, 'g-', label='var2')\n",
    "plt.legend(loc='best')\n",
    "plt.xlabel('t')\n",
    "plt.ylabel('value at r is '+str(r_i))\n",
    "plt.legend(loc='best')\n",
    "plt.grid()"
   ]
  },
  {
   "cell_type": "code",
   "execution_count": null,
   "id": "61ee31bd",
   "metadata": {},
   "outputs": [],
   "source": [
    "# plot the profile for some variable at a selection of times\n",
    "\n",
    "var = idx_lapse\n",
    "\n",
    "for i, t_i in enumerate(t) :\n",
    "    if (i < N_t) and (i % 20 == 0) :\n",
    "        labelt = \"t=\"+str(round(t_i,2))\n",
    "        f_t = solution[i, var * N: (var + 1) * N]\n",
    "        plt.plot(r, f_t, label=labelt)\n",
    "\n",
    "plt.legend(loc=4)\n",
    "plt.xlabel('r')\n",
    "plt.ylabel('value over time')\n",
    "plt.grid()"
   ]
  },
  {
   "cell_type": "code",
   "execution_count": null,
   "id": "94800712",
   "metadata": {},
   "outputs": [],
   "source": [
    "# calculate the diagnostics, just the Hamiltonian constraint for now\n",
    "Ham = get_diagnostics(solution)"
   ]
  },
  {
   "cell_type": "code",
   "execution_count": null,
   "id": "0cd0795a",
   "metadata": {},
   "outputs": [],
   "source": [
    "# plot the profile for Ham at a selection of times\n",
    "\n",
    "for i, t_i in enumerate(t) :\n",
    "    if (i < N_t) and (i % 20 == 0) :\n",
    "        labelt = \"t=\"+str(round(t_i,2))\n",
    "        Ham_t = Ham[i]\n",
    "        Ham_t = Ham_t[num_ghosts:(N-num_ghosts)]\n",
    "        r_diagnostics = r[num_ghosts:(N-num_ghosts)]\n",
    "        plt.plot(r_diagnostics, Ham_t, label=labelt)\n",
    "\n",
    "plt.legend(loc=4)\n",
    "plt.xlabel('r')\n",
    "plt.ylabel('Ham value over time')\n",
    "plt.grid()"
   ]
  },
  {
   "cell_type": "code",
   "execution_count": null,
   "id": "05b49d9b",
   "metadata": {},
   "outputs": [],
   "source": []
  }
 ],
 "metadata": {
  "kernelspec": {
   "display_name": "Python 3 (ipykernel)",
   "language": "python",
   "name": "python3"
  },
  "language_info": {
   "codemirror_mode": {
    "name": "ipython",
    "version": 3
   },
   "file_extension": ".py",
   "mimetype": "text/x-python",
   "name": "python",
   "nbconvert_exporter": "python",
   "pygments_lexer": "ipython3",
   "version": "3.9.7"
  }
 },
 "nbformat": 4,
 "nbformat_minor": 5
}
